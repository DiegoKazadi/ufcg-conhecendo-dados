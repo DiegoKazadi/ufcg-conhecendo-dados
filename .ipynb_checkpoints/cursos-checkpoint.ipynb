{
 "cells": [
  {
   "cell_type": "markdown",
   "id": "005a1e44-26d3-452a-a861-7252bbe523f5",
   "metadata": {},
   "source": [
    "# **Carregar tabela cursos**"
   ]
  },
  {
   "cell_type": "code",
   "execution_count": 2,
   "id": "f0110aef-bd75-4271-8a97-7b1388bafb95",
   "metadata": {},
   "outputs": [
    {
     "name": "stdout",
     "output_type": "stream",
     "text": [
      "O arquivo foi encontrado. Carregando agora...\n",
      "Tabela tabela_cursos_tratada.csv carregada com sucesso!\n",
      "\n",
      "Últimas 10 linhas da tabela tabela_cursos_tratada.csv:\n",
      "   CODIGO_CURSO  CODIGO_CURRICULAR  TOTAL_HORA  NUMERO_MINIMO_TERMO  \\\n",
      "0      14102100               2017        3270                    9   \n",
      "1      14102100               2023        3270                    9   \n",
      "\n",
      "   NUMERO_MAXIMO_TERMO  \n",
      "0                   14  \n",
      "1                   14  \n"
     ]
    }
   ],
   "source": [
    "import pandas as pd\n",
    "import os\n",
    "\n",
    "try:\n",
    "    # Caminho para o arquivo tabela_cursos_tratada.csv\n",
    "    caminho_tabela_cursos_tratada = os.path.expanduser(\n",
    "        '~/Área de Trabalho/Semestre 2024.2/Dados/Tabelas_Tratadas/tabela_cursos_tratada.csv'\n",
    "    )\n",
    "\n",
    "    # Verificar se o arquivo existe\n",
    "    if os.path.exists(caminho_tabela_cursos_tratada):\n",
    "        print(\"O arquivo foi encontrado. Carregando agora...\")\n",
    "        \n",
    "        # Carregar a tabela tabela_cursos_tratada.csv\n",
    "        caminho_tabela_cursos_tratada_df = pd.read_csv(caminho_tabela_cursos_tratada, low_memory=False)\n",
    "        print(\"Tabela tabela_cursos_tratada.csv carregada com sucesso!\")\n",
    "\n",
    "        # Visualizar as últimas 10 linhas\n",
    "        print(\"\\nÚltimas 10 linhas da tabela tabela_cursos_tratada.csv:\")\n",
    "        print(caminho_tabela_cursos_tratada_df.tail(10))\n",
    "    else:\n",
    "        print(f\"Arquivo não encontrado no caminho: {caminho_tabela_cursos_tratada}\")\n",
    "\n",
    "except Exception as e:\n",
    "    print(f\"Erro ao carregar ou visualizar a tabela caminho_tabela_cursos_tratada.csv: {e}\")\n"
   ]
  },
  {
   "cell_type": "code",
   "execution_count": null,
   "id": "0b414de5-eb64-4ea5-b04f-e9a73177e8ed",
   "metadata": {},
   "outputs": [],
   "source": []
  }
 ],
 "metadata": {
  "kernelspec": {
   "display_name": "Python 3 (ipykernel)",
   "language": "python",
   "name": "python3"
  },
  "language_info": {
   "codemirror_mode": {
    "name": "ipython",
    "version": 3
   },
   "file_extension": ".py",
   "mimetype": "text/x-python",
   "name": "python",
   "nbconvert_exporter": "python",
   "pygments_lexer": "ipython3",
   "version": "3.11.3"
  }
 },
 "nbformat": 4,
 "nbformat_minor": 5
}
