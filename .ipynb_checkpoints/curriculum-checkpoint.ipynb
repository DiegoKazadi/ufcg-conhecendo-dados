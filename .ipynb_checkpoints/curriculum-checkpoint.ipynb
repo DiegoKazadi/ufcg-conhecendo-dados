{
 "cells": [
  {
   "cell_type": "markdown",
   "id": "9b86dcb1-5617-44ec-8d38-8eaa83ea1d00",
   "metadata": {},
   "source": [
    "# **Explorar tabela curriculum**"
   ]
  },
  {
   "cell_type": "code",
   "execution_count": 1,
   "id": "2828765b-7316-4d66-9405-a9a76cafc376",
   "metadata": {
    "scrolled": true
   },
   "outputs": [
    {
     "name": "stdout",
     "output_type": "stream",
     "text": [
      "O arquivo foi encontrado. Carregando agora...\n",
      "Tabela curriculum_tratada.csv carregada com sucesso!\n",
      "\n",
      "Últimas 10 linhas da tabela curriculum_tratada.csv:\n",
      "   CODIGO_CURSO  CODIGO_CURRICULAR  TERMO_NUMERO_MINIMO  TERMO_NUMERO_MAXIMO  \\\n",
      "0      14102100               2017                    9                   14   \n",
      "1      14102100               2023                    9                   14   \n",
      "\n",
      "   NUMERO_MINIMO_CREDITO_INSCRITO  NUMERO_MAXIMO_CREDITOS_INSCRITOS  \\\n",
      "0                              14                                24   \n",
      "1                              16                                24   \n",
      "\n",
      "   MINIMO_CREDITO_OBRIGATORIOS_NECESSARIO  \\\n",
      "0                                     132   \n",
      "1                                     140   \n",
      "\n",
      "   MINIMO_CREDITO_OPCIONAIS_NECESSARIOS  \\\n",
      "0                                    56   \n",
      "1                                    44   \n",
      "\n",
      "   MINIMO_CREDITOS_COMPLEMENTARES_NECESSARIOS  \\\n",
      "0                                          30   \n",
      "1                                          34   \n",
      "\n",
      "   MINIMO_ATIVIDADES_EXTENSAO_ACADEMICA  \n",
      "0                                    22  \n",
      "1                                    22  \n",
      "Nenhum valor ausente encontrado na tabela.\n"
     ]
    }
   ],
   "source": [
    "import pandas as pd\n",
    "import os\n",
    "import seaborn as sns\n",
    "import matplotlib.pyplot as plt\n",
    "\n",
    "# Garantir que o estilo do Seaborn seja configurado\n",
    "sns.set(style=\"whitegrid\")\n",
    "\n",
    "try:\n",
    "    # Caminho para o arquivo curriculum_tratada.csv\n",
    "    caminho_curriculum_tratada = os.path.expanduser(\n",
    "        '~/Área de Trabalho/Semestre 2024.2/Dados/Tabelas_Tratadas/curriculum_tratada.csv'\n",
    "    )\n",
    "\n",
    "    # Verificar se o arquivo existe\n",
    "    if os.path.exists(caminho_curriculum_tratada):\n",
    "        print(\"O arquivo foi encontrado. Carregando agora...\")\n",
    "        \n",
    "        # Carregar a tabela curriculum_tratada.csv\n",
    "        curriculum_df = pd.read_csv(caminho_curriculum_tratada, low_memory=False)\n",
    "        print(\"Tabela curriculum_tratada.csv carregada com sucesso!\")\n",
    "\n",
    "        # Visualizar as últimas 10 linhas\n",
    "        print(\"\\nÚltimas 10 linhas da tabela curriculum_tratada.csv:\")\n",
    "        print(curriculum_df.tail(10))\n",
    "\n",
    "        # Identificar valores ausentes por coluna\n",
    "        valores_ausentes = curriculum_df.isnull().sum()\n",
    "        valores_ausentes = valores_ausentes[valores_ausentes > 0]  # Filtrar apenas colunas com valores ausentes\n",
    "\n",
    "        if valores_ausentes.empty:\n",
    "            print(\"Nenhum valor ausente encontrado na tabela.\")\n",
    "        else:\n",
    "            print(\"\\nValores ausentes por coluna:\")\n",
    "            print(valores_ausentes)\n",
    "\n",
    "            # Criar um gráfico para visualizar os valores ausentes\n",
    "            plt.figure(figsize=(12, 6))\n",
    "            sns.barplot(\n",
    "                x=valores_ausentes.index,\n",
    "                y=valores_ausentes.values,\n",
    "                palette=\"viridis\"\n",
    "            )\n",
    "            plt.title(\"Valores Ausentes por Coluna - Tabela Curriculum\", fontsize=16)\n",
    "            plt.xlabel(\"Colunas\", fontsize=12)\n",
    "            plt.ylabel(\"Número de Valores Ausentes\", fontsize=12)\n",
    "            plt.xticks(rotation=90)\n",
    "            plt.tight_layout()\n",
    "            plt.grid(axis=\"y\", linestyle=\"--\", alpha=0.7)\n",
    "            plt.show()\n",
    "    else:\n",
    "        print(f\"Arquivo não encontrado no caminho: {caminho_curriculum_tratada}\")\n",
    "\n",
    "except Exception as e:\n",
    "    print(f\"Erro ao carregar, tratar ou visualizar valores ausentes: {e}\")\n"
   ]
  },
  {
   "cell_type": "code",
   "execution_count": null,
   "id": "8c9693b6-442b-410e-99d6-994db934c4e6",
   "metadata": {},
   "outputs": [],
   "source": []
  }
 ],
 "metadata": {
  "kernelspec": {
   "display_name": "Python 3 (ipykernel)",
   "language": "python",
   "name": "python3"
  },
  "language_info": {
   "codemirror_mode": {
    "name": "ipython",
    "version": 3
   },
   "file_extension": ".py",
   "mimetype": "text/x-python",
   "name": "python",
   "nbconvert_exporter": "python",
   "pygments_lexer": "ipython3",
   "version": "3.11.3"
  }
 },
 "nbformat": 4,
 "nbformat_minor": 5
}
